{
  "cells": [
    {
      "cell_type": "code",
      "execution_count": null,
      "metadata": {},
      "outputs": [],
      "source": [
        "!pip install asyncio truecallerpy\n",
        "!pip install blockcypher\n",
        "!pip install gradio\n",
        "!pip install bhimupipy"
      ]
    },
    {
      "cell_type": "markdown",
      "metadata": {
        "id": "5i2C7CPyPyA7"
      },
      "source": [
        "SMS SPAM DETECTION"
      ]
    },
    {
      "cell_type": "code",
      "execution_count": 17,
      "metadata": {
        "colab": {
          "base_uri": "https://localhost:8080/"
        },
        "id": "ulVgyfCeQOxv",
        "outputId": "5c2db30f-78e9-40fd-b90a-6461bafbc4cf"
      },
      "outputs": [
        {
          "name": "stderr",
          "output_type": "stream",
          "text": [
            "[nltk_data] Downloading package punkt to\n",
            "[nltk_data]     C:\\Users\\rohis\\AppData\\Roaming\\nltk_data...\n",
            "[nltk_data]   Package punkt is already up-to-date!\n",
            "[nltk_data] Downloading package stopwords to\n",
            "[nltk_data]     C:\\Users\\rohis\\AppData\\Roaming\\nltk_data...\n",
            "[nltk_data]   Package stopwords is already up-to-date!\n",
            "c:\\Python310\\lib\\site-packages\\sklearn\\base.py:348: InconsistentVersionWarning: Trying to unpickle estimator CountVectorizer from version 1.2.2 when using version 1.3.2. This might lead to breaking code or invalid results. Use at your own risk. For more info please refer to:\n",
            "https://scikit-learn.org/stable/model_persistence.html#security-maintainability-limitations\n",
            "  warnings.warn(\n",
            "c:\\Python310\\lib\\site-packages\\sklearn\\base.py:348: InconsistentVersionWarning: Trying to unpickle estimator MultinomialNB from version 1.2.2 when using version 1.3.2. This might lead to breaking code or invalid results. Use at your own risk. For more info please refer to:\n",
            "https://scikit-learn.org/stable/model_persistence.html#security-maintainability-limitations\n",
            "  warnings.warn(\n"
          ]
        }
      ],
      "source": [
        "import pandas as pd\n",
        "import re\n",
        "import nltk\n",
        "import pickle\n",
        "from nltk.stem import PorterStemmer\n",
        "from nltk.corpus import stopwords\n",
        "\n",
        "# Download nltk resources if not already downloaded\n",
        "nltk.download('punkt')\n",
        "nltk.download('stopwords')\n",
        "\n",
        "# Load the trained model and vectorizer\n",
        "with open('spam_classifier.pkl', 'rb') as file:\n",
        "    vectorizer, model = pickle.load(file)"
      ]
    },
    {
      "cell_type": "code",
      "execution_count": 18,
      "metadata": {
        "id": "pwHc6J5lPMhF"
      },
      "outputs": [],
      "source": [
        "def sms_detection(new_messages):\n",
        "    # Preprocessing function\n",
        "    def preprocess_text(text):\n",
        "        stemmer = PorterStemmer()\n",
        "        text = re.sub('[^a-zA-Z]', ' ', text)\n",
        "        text = text.lower()\n",
        "        text = text.split()\n",
        "        text = [stemmer.stem(word) for word in text if word not in set(stopwords.words('english'))]\n",
        "        return ' '.join(text)\n",
        "\n",
        "    new_messages_processed = [preprocess_text(msg) for msg in new_messages]\n",
        "    X_new = vectorizer.transform(new_messages_processed).toarray()\n",
        "    predictions_new = model.predict(X_new)\n",
        "\n",
        "    print(\"Predictions on new messages:\")\n",
        "    for msg, pred in zip(new_messages, predictions_new):\n",
        "        print(f\"Message: {msg} -- Predicted Label: {'spam' if pred == 1 else 'ham'}\")\n",
        "\n",
        "        return 'spam' if pred==1 else 'genuine'\n"
      ]
    },
    {
      "cell_type": "code",
      "execution_count": 19,
      "metadata": {
        "colab": {
          "base_uri": "https://localhost:8080/"
        },
        "id": "1WadHNrjSX9g",
        "outputId": "66499586-7233-4d83-a65a-1c7e17f96ee4"
      },
      "outputs": [
        {
          "name": "stdout",
          "output_type": "stream",
          "text": [
            "Predictions on new messages:\n",
            "Message: Congratulations! You've won a free trip. Reply to claim your prize. -- Predicted Label: spam\n",
            "spam\n"
          ]
        }
      ],
      "source": [
        "new_messages = [\"Congratulations! You've won a free trip. Reply to claim your prize.\"]\n",
        "print(sms_detection(new_messages))"
      ]
    },
    {
      "cell_type": "markdown",
      "metadata": {
        "id": "IOOObaY6P4p8"
      },
      "source": [
        "URL SPAM DETECTION"
      ]
    },
    {
      "cell_type": "code",
      "execution_count": 20,
      "metadata": {
        "id": "G4lrvbShWyWN"
      },
      "outputs": [],
      "source": [
        "def extractUrl(data):\n",
        "        url = str(data)\n",
        "        extractSlash = url.split('/')\n",
        "        result = []\n",
        "\n",
        "        for i in extractSlash:\n",
        "            extractDash = str(i).split('-')\n",
        "            dotExtract = []\n",
        "\n",
        "            for j in range(0,len(extractDash)):\n",
        "                extractDot = str(extractDash[j]).split('.')\n",
        "                dotExtract += extractDot\n",
        "\n",
        "            result += extractDash + dotExtract\n",
        "        result = list(set(result))\n",
        "\n",
        "        return result"
      ]
    },
    {
      "cell_type": "code",
      "execution_count": 21,
      "metadata": {
        "id": "uH6vxqesP4FH"
      },
      "outputs": [],
      "source": [
        "def url_detection(new_urls):\n",
        "    # Load the trained model\n",
        "    with open('url_spam_classifier.pkl', 'rb') as file:\n",
        "        cv_loaded, nbModel_loaded = pickle.load(file)\n",
        "\n",
        "    # Transform new URLs into features using the loaded CountVectorizer\n",
        "    features_new = cv_loaded.transform(new_urls)\n",
        "\n",
        "    # Make predictions using the loaded Multinomial Naive Bayes classifier\n",
        "    predictions_new = nbModel_loaded.predict(features_new)\n",
        "\n",
        "    print(\"Predictions on new URLs:\")\n",
        "    for url, pred in zip(new_urls, predictions_new):\n",
        "        print(f\"URL: {url} -- Predicted Label: {'spam' if pred == 1 else 'safe'}\")\n",
        "        return 'spam' if pred == 1 else 'safe'\n"
      ]
    },
    {
      "cell_type": "code",
      "execution_count": 22,
      "metadata": {
        "colab": {
          "base_uri": "https://localhost:8080/"
        },
        "id": "w8lrfvasTYZb",
        "outputId": "ef7addaa-37ae-4f66-b4eb-c5ee720ee34d"
      },
      "outputs": [
        {
          "name": "stdout",
          "output_type": "stream",
          "text": [
            "Predictions on new URLs:\n",
            "URL: http://www.some-url.com -- Predicted Label: spam\n",
            "spam\n"
          ]
        },
        {
          "name": "stderr",
          "output_type": "stream",
          "text": [
            "c:\\Python310\\lib\\site-packages\\sklearn\\base.py:348: InconsistentVersionWarning: Trying to unpickle estimator CountVectorizer from version 1.2.2 when using version 1.3.2. This might lead to breaking code or invalid results. Use at your own risk. For more info please refer to:\n",
            "https://scikit-learn.org/stable/model_persistence.html#security-maintainability-limitations\n",
            "  warnings.warn(\n",
            "c:\\Python310\\lib\\site-packages\\sklearn\\base.py:348: InconsistentVersionWarning: Trying to unpickle estimator MultinomialNB from version 1.2.2 when using version 1.3.2. This might lead to breaking code or invalid results. Use at your own risk. For more info please refer to:\n",
            "https://scikit-learn.org/stable/model_persistence.html#security-maintainability-limitations\n",
            "  warnings.warn(\n"
          ]
        }
      ],
      "source": [
        "new_urls = [\"http://www.some-url.com\"]\n",
        "print(url_detection(new_urls))"
      ]
    },
    {
      "cell_type": "markdown",
      "metadata": {
        "id": "FvZPo3QXQRs9"
      },
      "source": [
        "CALL DETECTION"
      ]
    },
    {
      "cell_type": "code",
      "execution_count": 23,
      "metadata": {
        "colab": {
          "base_uri": "https://localhost:8080/"
        },
        "id": "Y37OoatWVsnX",
        "outputId": "e4182737-2d41-4f3b-f5e9-bbbe184b765d"
      },
      "outputs": [
        {
          "name": "stdout",
          "output_type": "stream",
          "text": [
            "Returned value: Verified Number\n"
          ]
        }
      ],
      "source": [
        "import asyncio\n",
        "import threading\n",
        "from truecallerpy import search_phonenumber\n",
        "\n",
        "# Enter Your country code and Truecaller installation ID:\n",
        "COUNTRY_CODE = \"IN\"\n",
        "INSTALLATION_ID = \"a1i09--lrIx0j-lFqMXeAfLdZozX1gZ4OQS7FptTEpMMI4orsdpA3kwIV7CamFo8\"\n",
        "\n",
        "# Global variable to store the result\n",
        "phone_number_result = \"\"\n",
        "\n",
        "# Fetching Data:\n",
        "async def get_truecaller_info(phone_number):\n",
        "    try:\n",
        "        # Perform the phone number search\n",
        "        response = await search_phonenumber(phone_number, COUNTRY_CODE, INSTALLATION_ID)\n",
        "\n",
        "        # Extract and store specific information\n",
        "        if response.get(\"status_code\") == 200:\n",
        "            data = response.get(\"data\", {}).get(\"data\", [])[0]\n",
        "            if data:\n",
        "                name = data.get(\"name\")\n",
        "                if \"spam\" in name.lower() or \"telemarketing\" in name.lower():\n",
        "                    return \"Spam Number\"\n",
        "                else:\n",
        "                    return \"Verified Number\"\n",
        "            else:\n",
        "                return \"No Truecaller information found for the provided phone number.\"\n",
        "        elif response.get(\"status_code\") == 429:  # Too Many Requests\n",
        "            return \"Too Many Requests: Please try again later.\"\n",
        "        else:\n",
        "            return \"Failed to retrieve Truecaller information. Status code:\", response.get(\"status_code\")\n",
        "\n",
        "    except Exception as e:\n",
        "        return f\"An error occurred: {e}\"\n",
        "\n",
        "def run_async_function(phone_number_input):\n",
        "    global phone_number_result\n",
        "    phone_number_result = asyncio.run(get_truecaller_info(phone_number_input))\n",
        "\n",
        "def check_no(phno):\n",
        "    # Create a new thread and run the asynchronous function inside it\n",
        "    thread = threading.Thread(target=run_async_function, args=(phno,))\n",
        "    thread.start()\n",
        "    thread.join()  # Wait for the thread to complete\n",
        "    return phone_number_result  # Return the result obtained from the global variable\n",
        "\n",
        "# Example usage:\n",
        "phone_number = \"7812827300\"  # Replace with the phone number you want to check\n",
        "result = check_no(phone_number)\n",
        "print(\"Returned value:\", result)  # Print the returned value\n"
      ]
    },
    {
      "cell_type": "markdown",
      "metadata": {
        "id": "xY8s8pfAVzLO"
      },
      "source": [
        "BITCOIN VERFICATION"
      ]
    },
    {
      "cell_type": "code",
      "execution_count": 24,
      "metadata": {
        "id": "l7CVvdatVsnX"
      },
      "outputs": [],
      "source": [
        "import blockcypher\n",
        "\n",
        "def is_address_available(addr):\n",
        "    try:\n",
        "        blockcypher.get_total_balance(addr)\n",
        "        return True\n",
        "    except:\n",
        "        return False\n",
        "\n",
        "def bitcoin(addr):\n",
        "    if is_address_available(addr):\n",
        "       return \"Address is available\"\n",
        "    else:\n",
        "        return \"Address is not available\"\n"
      ]
    },
    {
      "cell_type": "code",
      "execution_count": 25,
      "metadata": {
        "colab": {
          "base_uri": "https://localhost:8080/",
          "height": 35
        },
        "id": "J0fJSlZQYHkr",
        "outputId": "ce3fed97-d057-4a48-f049-ec2e8934d788"
      },
      "outputs": [
        {
          "data": {
            "text/plain": [
              "'Address is not available'"
            ]
          },
          "execution_count": 25,
          "metadata": {},
          "output_type": "execute_result"
        }
      ],
      "source": [
        "addr = \"1234567\"\n",
        "bitcoin(addr)"
      ]
    },
    {
      "attachments": {},
      "cell_type": "markdown",
      "metadata": {},
      "source": [
        "UPI VERIFICATION"
      ]
    },
    {
      "cell_type": "code",
      "execution_count": 28,
      "metadata": {},
      "outputs": [
        {
          "name": "stdout",
          "output_type": "stream",
          "text": [
            "Predictions on new messages:\n",
            "Message: hello -- Predicted Label: ham\n",
            "Predictions on new URLs:\n",
            "URL: https://www.google.com/ -- Predicted Label: spam\n"
          ]
        },
        {
          "name": "stderr",
          "output_type": "stream",
          "text": [
            "c:\\Python310\\lib\\site-packages\\sklearn\\base.py:348: InconsistentVersionWarning: Trying to unpickle estimator CountVectorizer from version 1.2.2 when using version 1.3.2. This might lead to breaking code or invalid results. Use at your own risk. For more info please refer to:\n",
            "https://scikit-learn.org/stable/model_persistence.html#security-maintainability-limitations\n",
            "  warnings.warn(\n",
            "c:\\Python310\\lib\\site-packages\\sklearn\\base.py:348: InconsistentVersionWarning: Trying to unpickle estimator MultinomialNB from version 1.2.2 when using version 1.3.2. This might lead to breaking code or invalid results. Use at your own risk. For more info please refer to:\n",
            "https://scikit-learn.org/stable/model_persistence.html#security-maintainability-limitations\n",
            "  warnings.warn(\n"
          ]
        },
        {
          "name": "stdout",
          "output_type": "stream",
          "text": [
            "None\n"
          ]
        }
      ],
      "source": [
        "def upi_verification(st):\n",
        "    %run upi.py\n",
        "    return \"Valid\" if upivalue else \"Not Valid\""
      ]
    },
    {
      "cell_type": "markdown",
      "metadata": {
        "id": "p4BnMCjwV7lM"
      },
      "source": [
        "UI"
      ]
    },
    {
      "cell_type": "code",
      "execution_count": 29,
      "metadata": {
        "colab": {
          "base_uri": "https://localhost:8080/",
          "height": 646
        },
        "id": "FGlF0FgBVsnX",
        "outputId": "0d779338-b7a6-403b-cc72-4efa1ebdea67"
      },
      "outputs": [
        {
          "name": "stdout",
          "output_type": "stream",
          "text": [
            "Running on local URL:  http://127.0.0.1:7862\n",
            "\n",
            "To create a public link, set `share=True` in `launch()`.\n"
          ]
        },
        {
          "data": {
            "text/html": [
              "<div><iframe src=\"http://127.0.0.1:7862/\" width=\"100%\" height=\"500\" allow=\"autoplay; camera; microphone; clipboard-read; clipboard-write;\" frameborder=\"0\" allowfullscreen></iframe></div>"
            ],
            "text/plain": [
              "<IPython.core.display.HTML object>"
            ]
          },
          "metadata": {},
          "output_type": "display_data"
        },
        {
          "data": {
            "text/plain": []
          },
          "execution_count": 29,
          "metadata": {},
          "output_type": "execute_result"
        },
        {
          "name": "stdout",
          "output_type": "stream",
          "text": [
            "Predictions on new messages:\n",
            "Message: hello -- Predicted Label: ham\n",
            "Predictions on new URLs:\n",
            "URL: https://briefingday.com/fan -- Predicted Label: spam\n"
          ]
        },
        {
          "name": "stderr",
          "output_type": "stream",
          "text": [
            "c:\\Python310\\lib\\site-packages\\sklearn\\base.py:348: InconsistentVersionWarning: Trying to unpickle estimator CountVectorizer from version 1.2.2 when using version 1.3.2. This might lead to breaking code or invalid results. Use at your own risk. For more info please refer to:\n",
            "https://scikit-learn.org/stable/model_persistence.html#security-maintainability-limitations\n",
            "  warnings.warn(\n",
            "c:\\Python310\\lib\\site-packages\\sklearn\\base.py:348: InconsistentVersionWarning: Trying to unpickle estimator MultinomialNB from version 1.2.2 when using version 1.3.2. This might lead to breaking code or invalid results. Use at your own risk. For more info please refer to:\n",
            "https://scikit-learn.org/stable/model_persistence.html#security-maintainability-limitations\n",
            "  warnings.warn(\n"
          ]
        },
        {
          "name": "stdout",
          "output_type": "stream",
          "text": [
            "None\n"
          ]
        }
      ],
      "source": [
        "import gradio as gr\n",
        "\n",
        "def check_output(i1, i2, i3, i4, i5):\n",
        "    a = check_no(i1)\n",
        "    b = sms_detection([i2])\n",
        "    c = url_detection([i3])\n",
        "    d = upi_verification(i4)\n",
        "    e = bitcoin(i5)\n",
        "\n",
        "    return a, b, c, d, e\n",
        "\n",
        "\n",
        "\n",
        "i1 = gr.Textbox(lines=1, label=\"Mobile Number\")\n",
        "i2 = gr.Textbox(lines=1, label=\"SMS\")\n",
        "i3 = gr.Textbox(lines=1, label=\"URL Link\")\n",
        "i4 = gr.Textbox(lines=1, label=\"UPI\")\n",
        "i5 = gr.Textbox(lines=1, label=\"Bitcoin Wallet\")\n",
        "\n",
        "app = gr.Interface(fn=check_output, inputs=[i1, i2, i3, i4, i5], outputs=[\"text\", \"text\", \"text\", \"text\", \"text\"], title=\"Citizen Safety App\")\n",
        "app.launch()\n"
      ]
    }
  ],
  "metadata": {
    "colab": {
      "provenance": []
    },
    "kernelspec": {
      "display_name": "Python 3",
      "name": "python3"
    },
    "language_info": {
      "codemirror_mode": {
        "name": "ipython",
        "version": 3
      },
      "file_extension": ".py",
      "mimetype": "text/x-python",
      "name": "python",
      "nbconvert_exporter": "python",
      "pygments_lexer": "ipython3",
      "version": "3.10.4"
    }
  },
  "nbformat": 4,
  "nbformat_minor": 0
}
