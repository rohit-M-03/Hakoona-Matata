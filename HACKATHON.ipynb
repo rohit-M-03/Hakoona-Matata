{
  "cells": [
    {
      "cell_type": "code",
      "execution_count": 6,
      "metadata": {},
      "outputs": [
        {
          "name": "stdout",
          "output_type": "stream",
          "text": [
            "Requirement already satisfied: asyncio in c:\\python310\\lib\\site-packages (3.4.3)\n",
            "Requirement already satisfied: truecallerpy in c:\\python310\\lib\\site-packages (1.0.3)\n",
            "Requirement already satisfied: httpx in c:\\python310\\lib\\site-packages (from truecallerpy) (0.27.0)\n",
            "Requirement already satisfied: phonenumbers in c:\\python310\\lib\\site-packages (from truecallerpy) (8.13.33)\n",
            "Requirement already satisfied: questionary in c:\\python310\\lib\\site-packages (from truecallerpy) (2.0.1)\n",
            "Requirement already satisfied: colorama in c:\\python310\\lib\\site-packages (from truecallerpy) (0.4.5)\n",
            "Requirement already satisfied: anyio in c:\\python310\\lib\\site-packages (from httpx->truecallerpy) (4.3.0)\n",
            "Requirement already satisfied: certifi in c:\\python310\\lib\\site-packages (from httpx->truecallerpy) (2021.10.8)\n",
            "Requirement already satisfied: httpcore==1.* in c:\\python310\\lib\\site-packages (from httpx->truecallerpy) (1.0.4)\n",
            "Requirement already satisfied: idna in c:\\python310\\lib\\site-packages (from httpx->truecallerpy) (3.3)\n",
            "Requirement already satisfied: sniffio in c:\\python310\\lib\\site-packages (from httpx->truecallerpy) (1.3.1)\n",
            "Requirement already satisfied: h11<0.15,>=0.13 in c:\\python310\\lib\\site-packages (from httpcore==1.*->httpx->truecallerpy) (0.14.0)\n",
            "Requirement already satisfied: prompt_toolkit<=3.0.36,>=2.0 in c:\\python310\\lib\\site-packages (from questionary->truecallerpy) (3.0.36)\n",
            "Requirement already satisfied: wcwidth in c:\\users\\rohis\\appdata\\roaming\\python\\python310\\site-packages (from prompt_toolkit<=3.0.36,>=2.0->questionary->truecallerpy) (0.2.8)\n",
            "Requirement already satisfied: exceptiongroup>=1.0.2 in c:\\users\\rohis\\appdata\\roaming\\python\\python310\\site-packages (from anyio->httpx->truecallerpy) (1.1.3)\n",
            "Requirement already satisfied: typing-extensions>=4.1 in c:\\python310\\lib\\site-packages (from anyio->httpx->truecallerpy) (4.10.0)\n"
          ]
        },
        {
          "name": "stderr",
          "output_type": "stream",
          "text": [
            "\n",
            "[notice] A new release of pip is available: 23.3.1 -> 24.0\n",
            "[notice] To update, run: python.exe -m pip install --upgrade pip\n"
          ]
        },
        {
          "name": "stdout",
          "output_type": "stream",
          "text": [
            "Requirement already satisfied: blockcypher in c:\\python310\\lib\\site-packages (1.0.93)\n",
            "Requirement already satisfied: requests<3.0.0 in c:\\python310\\lib\\site-packages (from blockcypher) (2.27.1)\n",
            "Requirement already satisfied: python-dateutil<3.0.0 in c:\\python310\\lib\\site-packages (from blockcypher) (2.8.2)\n",
            "Requirement already satisfied: bitcoin==1.1.39 in c:\\python310\\lib\\site-packages (from blockcypher) (1.1.39)\n",
            "Requirement already satisfied: six>=1.5 in c:\\python310\\lib\\site-packages (from python-dateutil<3.0.0->blockcypher) (1.16.0)\n",
            "Requirement already satisfied: urllib3<1.27,>=1.21.1 in c:\\python310\\lib\\site-packages (from requests<3.0.0->blockcypher) (1.26.9)\n",
            "Requirement already satisfied: certifi>=2017.4.17 in c:\\python310\\lib\\site-packages (from requests<3.0.0->blockcypher) (2021.10.8)\n",
            "Requirement already satisfied: charset-normalizer~=2.0.0 in c:\\python310\\lib\\site-packages (from requests<3.0.0->blockcypher) (2.0.12)\n",
            "Requirement already satisfied: idna<4,>=2.5 in c:\\python310\\lib\\site-packages (from requests<3.0.0->blockcypher) (3.3)\n"
          ]
        },
        {
          "name": "stderr",
          "output_type": "stream",
          "text": [
            "\n",
            "[notice] A new release of pip is available: 23.3.1 -> 24.0\n",
            "[notice] To update, run: python.exe -m pip install --upgrade pip\n"
          ]
        },
        {
          "name": "stdout",
          "output_type": "stream",
          "text": [
            "Requirement already satisfied: gradio in c:\\python310\\lib\\site-packages (4.25.0)\n",
            "Requirement already satisfied: aiofiles<24.0,>=22.0 in c:\\python310\\lib\\site-packages (from gradio) (23.2.1)\n",
            "Requirement already satisfied: altair<6.0,>=4.2.0 in c:\\python310\\lib\\site-packages (from gradio) (5.3.0)\n",
            "Requirement already satisfied: fastapi in c:\\python310\\lib\\site-packages (from gradio) (0.110.1)\n",
            "Requirement already satisfied: ffmpy in c:\\python310\\lib\\site-packages (from gradio) (0.3.2)\n",
            "Requirement already satisfied: gradio-client==0.15.0 in c:\\python310\\lib\\site-packages (from gradio) (0.15.0)\n",
            "Requirement already satisfied: httpx>=0.24.1 in c:\\python310\\lib\\site-packages (from gradio) (0.27.0)\n",
            "Requirement already satisfied: huggingface-hub>=0.19.3 in c:\\python310\\lib\\site-packages (from gradio) (0.22.2)\n",
            "Requirement already satisfied: importlib-resources<7.0,>=1.3 in c:\\python310\\lib\\site-packages (from gradio) (6.4.0)\n",
            "Requirement already satisfied: jinja2<4.0 in c:\\python310\\lib\\site-packages (from gradio) (3.1.2)\n",
            "Requirement already satisfied: markupsafe~=2.0 in c:\\python310\\lib\\site-packages (from gradio) (2.1.3)\n",
            "Requirement already satisfied: matplotlib~=3.0 in c:\\python310\\lib\\site-packages (from gradio) (3.8.0)\n",
            "Requirement already satisfied: numpy~=1.0 in c:\\python310\\lib\\site-packages (from gradio) (1.26.1)\n",
            "Requirement already satisfied: orjson~=3.0 in c:\\python310\\lib\\site-packages (from gradio) (3.10.0)\n",
            "Requirement already satisfied: packaging in c:\\python310\\lib\\site-packages (from gradio) (23.2)\n",
            "Requirement already satisfied: pandas<3.0,>=1.0 in c:\\python310\\lib\\site-packages (from gradio) (1.4.2)\n",
            "Requirement already satisfied: pillow<11.0,>=8.0 in c:\\python310\\lib\\site-packages (from gradio) (9.1.0)\n",
            "Requirement already satisfied: pydantic>=2.0 in c:\\python310\\lib\\site-packages (from gradio) (2.6.4)\n",
            "Requirement already satisfied: pydub in c:\\python310\\lib\\site-packages (from gradio) (0.25.1)\n",
            "Requirement already satisfied: python-multipart>=0.0.9 in c:\\python310\\lib\\site-packages (from gradio) (0.0.9)\n",
            "Requirement already satisfied: pyyaml<7.0,>=5.0 in c:\\python310\\lib\\site-packages (from gradio) (6.0.1)\n",
            "Requirement already satisfied: ruff>=0.2.2 in c:\\python310\\lib\\site-packages (from gradio) (0.3.5)\n",
            "Requirement already satisfied: semantic-version~=2.0 in c:\\python310\\lib\\site-packages (from gradio) (2.10.0)\n",
            "Requirement already satisfied: tomlkit==0.12.0 in c:\\python310\\lib\\site-packages (from gradio) (0.12.0)\n",
            "Requirement already satisfied: typer<1.0,>=0.9 in c:\\python310\\lib\\site-packages (from typer[all]<1.0,>=0.9; sys_platform != \"emscripten\"->gradio) (0.12.0)\n",
            "Requirement already satisfied: typing-extensions~=4.0 in c:\\python310\\lib\\site-packages (from gradio) (4.10.0)\n",
            "Requirement already satisfied: uvicorn>=0.14.0 in c:\\python310\\lib\\site-packages (from gradio) (0.29.0)\n",
            "Requirement already satisfied: fsspec in c:\\python310\\lib\\site-packages (from gradio-client==0.15.0->gradio) (2023.12.2)\n",
            "Requirement already satisfied: websockets<12.0,>=10.0 in c:\\python310\\lib\\site-packages (from gradio-client==0.15.0->gradio) (11.0.3)\n",
            "Requirement already satisfied: jsonschema>=3.0 in c:\\python310\\lib\\site-packages (from altair<6.0,>=4.2.0->gradio) (4.21.1)\n",
            "Requirement already satisfied: toolz in c:\\python310\\lib\\site-packages (from altair<6.0,>=4.2.0->gradio) (0.12.0)\n",
            "Requirement already satisfied: anyio in c:\\python310\\lib\\site-packages (from httpx>=0.24.1->gradio) (4.3.0)\n",
            "Requirement already satisfied: certifi in c:\\python310\\lib\\site-packages (from httpx>=0.24.1->gradio) (2021.10.8)\n",
            "Requirement already satisfied: httpcore==1.* in c:\\python310\\lib\\site-packages (from httpx>=0.24.1->gradio) (1.0.4)\n",
            "Requirement already satisfied: idna in c:\\python310\\lib\\site-packages (from httpx>=0.24.1->gradio) (3.3)\n",
            "Requirement already satisfied: sniffio in c:\\python310\\lib\\site-packages (from httpx>=0.24.1->gradio) (1.3.1)\n",
            "Requirement already satisfied: h11<0.15,>=0.13 in c:\\python310\\lib\\site-packages (from httpcore==1.*->httpx>=0.24.1->gradio) (0.14.0)\n",
            "Requirement already satisfied: filelock in c:\\python310\\lib\\site-packages (from huggingface-hub>=0.19.3->gradio) (3.11.0)\n",
            "Requirement already satisfied: requests in c:\\python310\\lib\\site-packages (from huggingface-hub>=0.19.3->gradio) (2.27.1)\n",
            "Requirement already satisfied: tqdm>=4.42.1 in c:\\python310\\lib\\site-packages (from huggingface-hub>=0.19.3->gradio) (4.66.1)\n",
            "Requirement already satisfied: contourpy>=1.0.1 in c:\\python310\\lib\\site-packages (from matplotlib~=3.0->gradio) (1.1.1)\n",
            "Requirement already satisfied: cycler>=0.10 in c:\\python310\\lib\\site-packages (from matplotlib~=3.0->gradio) (0.12.1)\n",
            "Requirement already satisfied: fonttools>=4.22.0 in c:\\python310\\lib\\site-packages (from matplotlib~=3.0->gradio) (4.43.1)\n",
            "Requirement already satisfied: kiwisolver>=1.0.1 in c:\\python310\\lib\\site-packages (from matplotlib~=3.0->gradio) (1.4.5)\n",
            "Requirement already satisfied: pyparsing>=2.3.1 in c:\\python310\\lib\\site-packages (from matplotlib~=3.0->gradio) (3.0.8)\n",
            "Requirement already satisfied: python-dateutil>=2.7 in c:\\python310\\lib\\site-packages (from matplotlib~=3.0->gradio) (2.8.2)\n",
            "Requirement already satisfied: pytz>=2020.1 in c:\\python310\\lib\\site-packages (from pandas<3.0,>=1.0->gradio) (2022.1)\n",
            "Requirement already satisfied: annotated-types>=0.4.0 in c:\\python310\\lib\\site-packages (from pydantic>=2.0->gradio) (0.6.0)\n",
            "Requirement already satisfied: pydantic-core==2.16.3 in c:\\python310\\lib\\site-packages (from pydantic>=2.0->gradio) (2.16.3)\n",
            "Requirement already satisfied: typer-slim==0.12.0 in c:\\python310\\lib\\site-packages (from typer-slim[standard]==0.12.0->typer<1.0,>=0.9->typer[all]<1.0,>=0.9; sys_platform != \"emscripten\"->gradio) (0.12.0)\n",
            "Requirement already satisfied: typer-cli==0.12.0 in c:\\python310\\lib\\site-packages (from typer<1.0,>=0.9->typer[all]<1.0,>=0.9; sys_platform != \"emscripten\"->gradio) (0.12.0)\n",
            "Requirement already satisfied: click>=8.0.0 in c:\\python310\\lib\\site-packages (from typer-slim==0.12.0->typer-slim[standard]==0.12.0->typer<1.0,>=0.9->typer[all]<1.0,>=0.9; sys_platform != \"emscripten\"->gradio) (8.1.3)\n",
            "Requirement already satisfied: shellingham>=1.3.0 in c:\\python310\\lib\\site-packages (from typer-slim[standard]==0.12.0->typer<1.0,>=0.9->typer[all]<1.0,>=0.9; sys_platform != \"emscripten\"->gradio) (1.5.4)\n",
            "Requirement already satisfied: rich>=10.11.0 in c:\\python310\\lib\\site-packages (from typer-slim[standard]==0.12.0->typer<1.0,>=0.9->typer[all]<1.0,>=0.9; sys_platform != \"emscripten\"->gradio) (13.7.1)\n",
            "Requirement already satisfied: starlette<0.38.0,>=0.37.2 in c:\\python310\\lib\\site-packages (from fastapi->gradio) (0.37.2)\n",
            "Requirement already satisfied: colorama in c:\\python310\\lib\\site-packages (from click>=8.0.0->typer-slim==0.12.0->typer-slim[standard]==0.12.0->typer<1.0,>=0.9->typer[all]<1.0,>=0.9; sys_platform != \"emscripten\"->gradio) (0.4.5)\n",
            "Requirement already satisfied: attrs>=22.2.0 in c:\\python310\\lib\\site-packages (from jsonschema>=3.0->altair<6.0,>=4.2.0->gradio) (23.2.0)\n",
            "Requirement already satisfied: jsonschema-specifications>=2023.03.6 in c:\\python310\\lib\\site-packages (from jsonschema>=3.0->altair<6.0,>=4.2.0->gradio) (2023.12.1)\n",
            "Requirement already satisfied: referencing>=0.28.4 in c:\\python310\\lib\\site-packages (from jsonschema>=3.0->altair<6.0,>=4.2.0->gradio) (0.34.0)\n",
            "Requirement already satisfied: rpds-py>=0.7.1 in c:\\python310\\lib\\site-packages (from jsonschema>=3.0->altair<6.0,>=4.2.0->gradio) (0.18.0)\n",
            "Requirement already satisfied: six>=1.5 in c:\\python310\\lib\\site-packages (from python-dateutil>=2.7->matplotlib~=3.0->gradio) (1.16.0)\n",
            "Requirement already satisfied: exceptiongroup>=1.0.2 in c:\\users\\rohis\\appdata\\roaming\\python\\python310\\site-packages (from anyio->httpx>=0.24.1->gradio) (1.1.3)\n",
            "Requirement already satisfied: urllib3<1.27,>=1.21.1 in c:\\python310\\lib\\site-packages (from requests->huggingface-hub>=0.19.3->gradio) (1.26.9)\n",
            "Requirement already satisfied: charset-normalizer~=2.0.0 in c:\\python310\\lib\\site-packages (from requests->huggingface-hub>=0.19.3->gradio) (2.0.12)\n",
            "Requirement already satisfied: markdown-it-py>=2.2.0 in c:\\python310\\lib\\site-packages (from rich>=10.11.0->typer-slim[standard]==0.12.0->typer<1.0,>=0.9->typer[all]<1.0,>=0.9; sys_platform != \"emscripten\"->gradio) (3.0.0)\n",
            "Requirement already satisfied: pygments<3.0.0,>=2.13.0 in c:\\users\\rohis\\appdata\\roaming\\python\\python310\\site-packages (from rich>=10.11.0->typer-slim[standard]==0.12.0->typer<1.0,>=0.9->typer[all]<1.0,>=0.9; sys_platform != \"emscripten\"->gradio) (2.16.1)\n",
            "Requirement already satisfied: mdurl~=0.1 in c:\\python310\\lib\\site-packages (from markdown-it-py>=2.2.0->rich>=10.11.0->typer-slim[standard]==0.12.0->typer<1.0,>=0.9->typer[all]<1.0,>=0.9; sys_platform != \"emscripten\"->gradio) (0.1.2)\n"
          ]
        },
        {
          "name": "stderr",
          "output_type": "stream",
          "text": [
            "WARNING: typer 0.12.0 does not provide the extra 'all'\n",
            "\n",
            "[notice] A new release of pip is available: 23.3.1 -> 24.0\n",
            "[notice] To update, run: python.exe -m pip install --upgrade pip\n"
          ]
        },
        {
          "name": "stdout",
          "output_type": "stream",
          "text": [
            "Requirement already satisfied: bhimupipy in c:\\python310\\lib\\site-packages (0.0.2)\n",
            "Requirement already satisfied: requests in c:\\python310\\lib\\site-packages (from bhimupipy) (2.27.1)\n",
            "Requirement already satisfied: urllib3<1.27,>=1.21.1 in c:\\python310\\lib\\site-packages (from requests->bhimupipy) (1.26.9)\n",
            "Requirement already satisfied: certifi>=2017.4.17 in c:\\python310\\lib\\site-packages (from requests->bhimupipy) (2021.10.8)\n",
            "Requirement already satisfied: charset-normalizer~=2.0.0 in c:\\python310\\lib\\site-packages (from requests->bhimupipy) (2.0.12)\n",
            "Requirement already satisfied: idna<4,>=2.5 in c:\\python310\\lib\\site-packages (from requests->bhimupipy) (3.3)\n"
          ]
        },
        {
          "name": "stderr",
          "output_type": "stream",
          "text": [
            "\n",
            "[notice] A new release of pip is available: 23.3.1 -> 24.0\n",
            "[notice] To update, run: python.exe -m pip install --upgrade pip\n"
          ]
        }
      ],
      "source": [
        "!pip install asyncio truecallerpy\n",
        "!pip install blockcypher\n",
        "!pip install gradio\n",
        "!pip install bhimupipy"
      ]
    },
    {
      "cell_type": "markdown",
      "metadata": {
        "id": "5i2C7CPyPyA7"
      },
      "source": [
        "SMS SPAM DETECTION"
      ]
    },
    {
      "cell_type": "code",
      "execution_count": 7,
      "metadata": {
        "colab": {
          "base_uri": "https://localhost:8080/"
        },
        "id": "ulVgyfCeQOxv",
        "outputId": "5c2db30f-78e9-40fd-b90a-6461bafbc4cf"
      },
      "outputs": [
        {
          "name": "stderr",
          "output_type": "stream",
          "text": [
            "[nltk_data] Downloading package punkt to\n",
            "[nltk_data]     C:\\Users\\rohis\\AppData\\Roaming\\nltk_data...\n",
            "[nltk_data]   Package punkt is already up-to-date!\n",
            "[nltk_data] Downloading package stopwords to\n",
            "[nltk_data]     C:\\Users\\rohis\\AppData\\Roaming\\nltk_data...\n",
            "[nltk_data]   Package stopwords is already up-to-date!\n",
            "c:\\Python310\\lib\\site-packages\\sklearn\\base.py:348: InconsistentVersionWarning: Trying to unpickle estimator CountVectorizer from version 1.2.2 when using version 1.3.2. This might lead to breaking code or invalid results. Use at your own risk. For more info please refer to:\n",
            "https://scikit-learn.org/stable/model_persistence.html#security-maintainability-limitations\n",
            "  warnings.warn(\n",
            "c:\\Python310\\lib\\site-packages\\sklearn\\base.py:348: InconsistentVersionWarning: Trying to unpickle estimator MultinomialNB from version 1.2.2 when using version 1.3.2. This might lead to breaking code or invalid results. Use at your own risk. For more info please refer to:\n",
            "https://scikit-learn.org/stable/model_persistence.html#security-maintainability-limitations\n",
            "  warnings.warn(\n"
          ]
        }
      ],
      "source": [
        "import pandas as pd\n",
        "import re\n",
        "import nltk\n",
        "import pickle\n",
        "from nltk.stem import PorterStemmer\n",
        "from nltk.corpus import stopwords\n",
        "\n",
        "# Download nltk resources if not already downloaded\n",
        "nltk.download('punkt')\n",
        "nltk.download('stopwords')\n",
        "\n",
        "# Load the trained model and vectorizer\n",
        "with open('spam_classifier.pkl', 'rb') as file:\n",
        "    vectorizer, model = pickle.load(file)"
      ]
    },
    {
      "cell_type": "code",
      "execution_count": 8,
      "metadata": {
        "id": "pwHc6J5lPMhF"
      },
      "outputs": [],
      "source": [
        "def sms_detection(new_messages):\n",
        "    # Preprocessing function\n",
        "    def preprocess_text(text):\n",
        "        stemmer = PorterStemmer()\n",
        "        text = re.sub('[^a-zA-Z]', ' ', text)\n",
        "        text = text.lower()\n",
        "        text = text.split()\n",
        "        text = [stemmer.stem(word) for word in text if word not in set(stopwords.words('english'))]\n",
        "        return ' '.join(text)\n",
        "\n",
        "    new_messages_processed = [preprocess_text(msg) for msg in new_messages]\n",
        "    X_new = vectorizer.transform(new_messages_processed).toarray()\n",
        "    predictions_new = model.predict(X_new)\n",
        "\n",
        "    print(\"Predictions on new messages:\")\n",
        "    for msg, pred in zip(new_messages, predictions_new):\n",
        "        print(f\"Message: {msg} -- Predicted Label: {'spam' if pred == 1 else 'ham'}\")\n",
        "\n",
        "        return 'spam' if pred==1 else 'genuine'\n"
      ]
    },
    {
      "cell_type": "code",
      "execution_count": 9,
      "metadata": {
        "colab": {
          "base_uri": "https://localhost:8080/"
        },
        "id": "1WadHNrjSX9g",
        "outputId": "66499586-7233-4d83-a65a-1c7e17f96ee4"
      },
      "outputs": [
        {
          "name": "stdout",
          "output_type": "stream",
          "text": [
            "Predictions on new messages:\n",
            "Message: Congratulations! You've won a free trip. Reply to claim your prize. -- Predicted Label: spam\n",
            "spam\n"
          ]
        }
      ],
      "source": [
        "new_messages = [\"Congratulations! You've won a free trip. Reply to claim your prize.\"]\n",
        "print(sms_detection(new_messages))"
      ]
    },
    {
      "cell_type": "markdown",
      "metadata": {
        "id": "IOOObaY6P4p8"
      },
      "source": [
        "URL SPAM DETECTION"
      ]
    },
    {
      "cell_type": "code",
      "execution_count": 10,
      "metadata": {
        "id": "G4lrvbShWyWN"
      },
      "outputs": [],
      "source": [
        "def extractUrl(data):\n",
        "        url = str(data)\n",
        "        extractSlash = url.split('/')\n",
        "        result = []\n",
        "\n",
        "        for i in extractSlash:\n",
        "            extractDash = str(i).split('-')\n",
        "            dotExtract = []\n",
        "\n",
        "            for j in range(0,len(extractDash)):\n",
        "                extractDot = str(extractDash[j]).split('.')\n",
        "                dotExtract += extractDot\n",
        "\n",
        "            result += extractDash + dotExtract\n",
        "        result = list(set(result))\n",
        "\n",
        "        return result"
      ]
    },
    {
      "cell_type": "code",
      "execution_count": 11,
      "metadata": {
        "id": "uH6vxqesP4FH"
      },
      "outputs": [],
      "source": [
        "def url_detection(new_urls):\n",
        "    # Load the trained model\n",
        "    with open('url_spam_classifier.pkl', 'rb') as file:\n",
        "        cv_loaded, nbModel_loaded = pickle.load(file)\n",
        "\n",
        "    # Transform new URLs into features using the loaded CountVectorizer\n",
        "    features_new = cv_loaded.transform(new_urls)\n",
        "\n",
        "    # Make predictions using the loaded Multinomial Naive Bayes classifier\n",
        "    predictions_new = nbModel_loaded.predict(features_new)\n",
        "\n",
        "    print(\"Predictions on new URLs:\")\n",
        "    for url, pred in zip(new_urls, predictions_new):\n",
        "        print(f\"URL: {url} -- Predicted Label: {'spam' if pred == 1 else 'safe'}\")\n",
        "        return 'spam' if pred == 1 else 'safe'\n"
      ]
    },
    {
      "cell_type": "code",
      "execution_count": 12,
      "metadata": {
        "colab": {
          "base_uri": "https://localhost:8080/"
        },
        "id": "w8lrfvasTYZb",
        "outputId": "ef7addaa-37ae-4f66-b4eb-c5ee720ee34d"
      },
      "outputs": [
        {
          "name": "stdout",
          "output_type": "stream",
          "text": [
            "Predictions on new URLs:\n",
            "URL: http://www.some-url.com -- Predicted Label: spam\n",
            "spam\n"
          ]
        },
        {
          "name": "stderr",
          "output_type": "stream",
          "text": [
            "c:\\Python310\\lib\\site-packages\\sklearn\\base.py:348: InconsistentVersionWarning: Trying to unpickle estimator CountVectorizer from version 1.2.2 when using version 1.3.2. This might lead to breaking code or invalid results. Use at your own risk. For more info please refer to:\n",
            "https://scikit-learn.org/stable/model_persistence.html#security-maintainability-limitations\n",
            "  warnings.warn(\n",
            "c:\\Python310\\lib\\site-packages\\sklearn\\base.py:348: InconsistentVersionWarning: Trying to unpickle estimator MultinomialNB from version 1.2.2 when using version 1.3.2. This might lead to breaking code or invalid results. Use at your own risk. For more info please refer to:\n",
            "https://scikit-learn.org/stable/model_persistence.html#security-maintainability-limitations\n",
            "  warnings.warn(\n"
          ]
        }
      ],
      "source": [
        "new_urls = [\"http://www.some-url.com\"]\n",
        "print(url_detection(new_urls))"
      ]
    },
    {
      "cell_type": "markdown",
      "metadata": {
        "id": "FvZPo3QXQRs9"
      },
      "source": [
        "CALL DETECTION"
      ]
    },
    {
      "cell_type": "code",
      "execution_count": 13,
      "metadata": {
        "colab": {
          "base_uri": "https://localhost:8080/"
        },
        "id": "Y37OoatWVsnX",
        "outputId": "e4182737-2d41-4f3b-f5e9-bbbe184b765d"
      },
      "outputs": [
        {
          "name": "stdout",
          "output_type": "stream",
          "text": [
            "Returned value: Verified Number\n"
          ]
        }
      ],
      "source": [
        "import asyncio\n",
        "import threading\n",
        "from truecallerpy import search_phonenumber\n",
        "\n",
        "# Enter Your country code and Truecaller installation ID:\n",
        "COUNTRY_CODE = \"IN\"\n",
        "INSTALLATION_ID = \"a1i09--lrIx0j-lFqMXeAfLdZozX1gZ4OQS7FptTEpMMI4orsdpA3kwIV7CamFo8\"\n",
        "\n",
        "# Global variable to store the result\n",
        "phone_number_result = \"\"\n",
        "\n",
        "# Fetching Data:\n",
        "async def get_truecaller_info(phone_number):\n",
        "    try:\n",
        "        # Perform the phone number search\n",
        "        response = await search_phonenumber(phone_number, COUNTRY_CODE, INSTALLATION_ID)\n",
        "\n",
        "        # Extract and store specific information\n",
        "        if response.get(\"status_code\") == 200:\n",
        "            data = response.get(\"data\", {}).get(\"data\", [])[0]\n",
        "            if data:\n",
        "                name = data.get(\"name\")\n",
        "                if \"spam\" in name.lower() or \"telemarketing\" in name.lower():\n",
        "                    return \"Spam Number\"\n",
        "                else:\n",
        "                    return \"Verified Number\"\n",
        "            else:\n",
        "                return \"No Truecaller information found for the provided phone number.\"\n",
        "        elif response.get(\"status_code\") == 429:  # Too Many Requests\n",
        "            return \"Too Many Requests: Please try again later.\"\n",
        "        else:\n",
        "            return \"Failed to retrieve Truecaller information. Status code:\", response.get(\"status_code\")\n",
        "\n",
        "    except Exception as e:\n",
        "        return f\"An error occurred: {e}\"\n",
        "\n",
        "def run_async_function(phone_number_input):\n",
        "    global phone_number_result\n",
        "    phone_number_result = asyncio.run(get_truecaller_info(phone_number_input))\n",
        "\n",
        "def check_no(phno):\n",
        "    # Create a new thread and run the asynchronous function inside it\n",
        "    thread = threading.Thread(target=run_async_function, args=(phno,))\n",
        "    thread.start()\n",
        "    thread.join()  # Wait for the thread to complete\n",
        "    return phone_number_result  # Return the result obtained from the global variable\n",
        "\n",
        "# Example usage:\n",
        "phone_number = \"7812827300\"  # Replace with the phone number you want to check\n",
        "result = check_no(phone_number)\n",
        "print(\"Returned value:\", result)  # Print the returned value\n"
      ]
    },
    {
      "cell_type": "markdown",
      "metadata": {
        "id": "xY8s8pfAVzLO"
      },
      "source": [
        "BITCOIN VERFICATION"
      ]
    },
    {
      "cell_type": "code",
      "execution_count": 14,
      "metadata": {
        "id": "l7CVvdatVsnX"
      },
      "outputs": [],
      "source": [
        "import blockcypher\n",
        "\n",
        "def is_address_available(addr):\n",
        "    try:\n",
        "        blockcypher.get_total_balance(addr)\n",
        "        return True\n",
        "    except:\n",
        "        return False\n",
        "\n",
        "def bitcoin(addr):\n",
        "    if is_address_available(addr):\n",
        "       return \"Address is available\"\n",
        "    else:\n",
        "        return \"Address is not available\"\n"
      ]
    },
    {
      "cell_type": "code",
      "execution_count": 15,
      "metadata": {
        "colab": {
          "base_uri": "https://localhost:8080/",
          "height": 35
        },
        "id": "J0fJSlZQYHkr",
        "outputId": "ce3fed97-d057-4a48-f049-ec2e8934d788"
      },
      "outputs": [
        {
          "data": {
            "text/plain": [
              "'Address is not available'"
            ]
          },
          "execution_count": 15,
          "metadata": {},
          "output_type": "execute_result"
        }
      ],
      "source": [
        "addr = \"1234567\"\n",
        "bitcoin(addr)"
      ]
    },
    {
      "attachments": {},
      "cell_type": "markdown",
      "metadata": {},
      "source": [
        "UPI VERIFICATION"
      ]
    },
    {
      "cell_type": "code",
      "execution_count": 20,
      "metadata": {},
      "outputs": [],
      "source": [
        "upivalue=\"\""
      ]
    },
    {
      "cell_type": "code",
      "execution_count": 21,
      "metadata": {},
      "outputs": [
        {
          "name": "stdout",
          "output_type": "stream",
          "text": [
            "Predictions on new messages:\n",
            "Message: hello -- Predicted Label: ham\n",
            "Predictions on new URLs:\n",
            "URL: kjkhfurf -- Predicted Label: safe\n"
          ]
        },
        {
          "name": "stderr",
          "output_type": "stream",
          "text": [
            "c:\\Python310\\lib\\site-packages\\sklearn\\base.py:348: InconsistentVersionWarning: Trying to unpickle estimator CountVectorizer from version 1.2.2 when using version 1.3.2. This might lead to breaking code or invalid results. Use at your own risk. For more info please refer to:\n",
            "https://scikit-learn.org/stable/model_persistence.html#security-maintainability-limitations\n",
            "  warnings.warn(\n",
            "c:\\Python310\\lib\\site-packages\\sklearn\\base.py:348: InconsistentVersionWarning: Trying to unpickle estimator MultinomialNB from version 1.2.2 when using version 1.3.2. This might lead to breaking code or invalid results. Use at your own risk. For more info please refer to:\n",
            "https://scikit-learn.org/stable/model_persistence.html#security-maintainability-limitations\n",
            "  warnings.warn(\n",
            "usage: upi.py [-h] [-v] [--upi UPI]\n",
            "upi.py: error: unrecognized arguments: sumithemmadi@ybl\n"
          ]
        },
        {
          "ename": "SystemExit",
          "evalue": "2",
          "output_type": "error",
          "traceback": [
            "An exception has occurred, use %tb to see the full traceback.\n",
            "\u001b[1;31mSystemExit\u001b[0m\u001b[1;31m:\u001b[0m 2\n"
          ]
        },
        {
          "name": "stdout",
          "output_type": "stream",
          "text": [
            "\n"
          ]
        }
      ],
      "source": [
        "def upi_verification(st):\n",
        "    %run upi.py sumithemmadi@ybl\n",
        "    print(upivalue)\n",
        "    return \"Valid\" if upivalue else \"Not Valid\""
      ]
    },
    {
      "cell_type": "markdown",
      "metadata": {
        "id": "p4BnMCjwV7lM"
      },
      "source": [
        "UI"
      ]
    },
    {
      "cell_type": "code",
      "execution_count": 17,
      "metadata": {
        "colab": {
          "base_uri": "https://localhost:8080/",
          "height": 646
        },
        "id": "FGlF0FgBVsnX",
        "outputId": "0d779338-b7a6-403b-cc72-4efa1ebdea67"
      },
      "outputs": [
        {
          "name": "stdout",
          "output_type": "stream",
          "text": [
            "Running on local URL:  http://127.0.0.1:7861\n",
            "\n",
            "To create a public link, set `share=True` in `launch()`.\n"
          ]
        },
        {
          "data": {
            "text/html": [
              "<div><iframe src=\"http://127.0.0.1:7861/\" width=\"100%\" height=\"500\" allow=\"autoplay; camera; microphone; clipboard-read; clipboard-write;\" frameborder=\"0\" allowfullscreen></iframe></div>"
            ],
            "text/plain": [
              "<IPython.core.display.HTML object>"
            ]
          },
          "metadata": {},
          "output_type": "display_data"
        },
        {
          "data": {
            "text/plain": []
          },
          "execution_count": 17,
          "metadata": {},
          "output_type": "execute_result"
        },
        {
          "name": "stdout",
          "output_type": "stream",
          "text": [
            "Predictions on new messages:\n",
            "Message: hello -- Predicted Label: ham\n",
            "Predictions on new URLs:\n",
            "URL: kjkhfurf -- Predicted Label: safe\n"
          ]
        },
        {
          "name": "stderr",
          "output_type": "stream",
          "text": [
            "c:\\Python310\\lib\\site-packages\\sklearn\\base.py:348: InconsistentVersionWarning: Trying to unpickle estimator CountVectorizer from version 1.2.2 when using version 1.3.2. This might lead to breaking code or invalid results. Use at your own risk. For more info please refer to:\n",
            "https://scikit-learn.org/stable/model_persistence.html#security-maintainability-limitations\n",
            "  warnings.warn(\n",
            "c:\\Python310\\lib\\site-packages\\sklearn\\base.py:348: InconsistentVersionWarning: Trying to unpickle estimator MultinomialNB from version 1.2.2 when using version 1.3.2. This might lead to breaking code or invalid results. Use at your own risk. For more info please refer to:\n",
            "https://scikit-learn.org/stable/model_persistence.html#security-maintainability-limitations\n",
            "  warnings.warn(\n",
            "usage: upi.py [-h] [-v] [--upi UPI]\n",
            "upi.py: error: unrecognized arguments: sumithemmadi@ybl\n"
          ]
        },
        {
          "ename": "SystemExit",
          "evalue": "2",
          "output_type": "error",
          "traceback": [
            "An exception has occurred, use %tb to see the full traceback.\n",
            "\u001b[1;31mSystemExit\u001b[0m\u001b[1;31m:\u001b[0m 2\n"
          ]
        },
        {
          "name": "stderr",
          "output_type": "stream",
          "text": [
            "Traceback (most recent call last):\n",
            "  File \"c:\\Python310\\lib\\site-packages\\gradio\\queueing.py\", line 522, in process_events\n",
            "    response = await route_utils.call_process_api(\n",
            "  File \"c:\\Python310\\lib\\site-packages\\gradio\\route_utils.py\", line 260, in call_process_api\n",
            "    output = await app.get_blocks().process_api(\n",
            "  File \"c:\\Python310\\lib\\site-packages\\gradio\\blocks.py\", line 1741, in process_api\n",
            "    result = await self.call_function(\n",
            "  File \"c:\\Python310\\lib\\site-packages\\gradio\\blocks.py\", line 1296, in call_function\n",
            "    prediction = await anyio.to_thread.run_sync(\n",
            "  File \"c:\\Python310\\lib\\site-packages\\anyio\\to_thread.py\", line 56, in run_sync\n",
            "    return await get_async_backend().run_sync_in_worker_thread(\n",
            "  File \"c:\\Python310\\lib\\site-packages\\anyio\\_backends\\_asyncio.py\", line 2144, in run_sync_in_worker_thread\n",
            "    return await future\n",
            "  File \"c:\\Python310\\lib\\site-packages\\anyio\\_backends\\_asyncio.py\", line 851, in run\n",
            "    result = context.run(func, *args)\n",
            "  File \"c:\\Python310\\lib\\site-packages\\gradio\\utils.py\", line 751, in wrapper\n",
            "    response = f(*args, **kwargs)\n",
            "  File \"C:\\Users\\rohis\\AppData\\Local\\Temp\\ipykernel_17352\\1984077589.py\", line 7, in check_output\n",
            "    d = upi_verification(i4)\n",
            "  File \"C:\\Users\\rohis\\AppData\\Local\\Temp\\ipykernel_17352\\1964329740.py\", line 3, in upi_verification\n",
            "    print(upivalue)\n",
            "NameError: name 'upivalue' is not defined\n"
          ]
        }
      ],
      "source": [
        "import gradio as gr\n",
        "\n",
        "def check_output(i1, i2, i3, i4, i5):\n",
        "    a = check_no(i1)\n",
        "    b = sms_detection([i2])\n",
        "    c = url_detection([i3])\n",
        "    d = upi_verification(i4)\n",
        "    e = bitcoin(i5)\n",
        "\n",
        "    return a, b, c, d, e\n",
        "\n",
        "\n",
        "\n",
        "i1 = gr.Textbox(lines=1, label=\"Mobile Number\")\n",
        "i2 = gr.Textbox(lines=1, label=\"SMS\")\n",
        "i3 = gr.Textbox(lines=1, label=\"URL Link\")\n",
        "i4 = gr.Textbox(lines=1, label=\"UPI\")\n",
        "i5 = gr.Textbox(lines=1, label=\"Bitcoin Wallet\")\n",
        "\n",
        "app = gr.Interface(fn=check_output, inputs=[i1, i2, i3, i4, i5], outputs=[\"text\", \"text\", \"text\", \"text\", \"text\"], title=\"Citizen Safety App\")\n",
        "app.launch()\n"
      ]
    }
  ],
  "metadata": {
    "colab": {
      "provenance": []
    },
    "kernelspec": {
      "display_name": "Python 3",
      "name": "python3"
    },
    "language_info": {
      "codemirror_mode": {
        "name": "ipython",
        "version": 3
      },
      "file_extension": ".py",
      "mimetype": "text/x-python",
      "name": "python",
      "nbconvert_exporter": "python",
      "pygments_lexer": "ipython3",
      "version": "3.10.4"
    }
  },
  "nbformat": 4,
  "nbformat_minor": 0
}
